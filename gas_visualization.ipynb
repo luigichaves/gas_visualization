{
 "cells": [
  {
   "cell_type": "markdown",
   "id": "6bca3b22-744f-4bc3-bc9f-ad56f4313bc1",
   "metadata": {},
   "source": [
    "-----------------------------------------------------------------------------------------------------------------------------------------------------------------------------------------\n",
    "\n",
    "https://www.kaggle.com/datasets/zusmani/petrolgas-prices-worldwide"
   ]
  },
  {
   "cell_type": "markdown",
   "id": "2738da4d-a004-468c-8dba-1fdcfbe7c833",
   "metadata": {
    "tags": []
   },
   "source": [
    "# Exploração dos dados"
   ]
  },
  {
   "cell_type": "code",
   "execution_count": null,
   "id": "0fbbc243-3cf9-4d38-841b-a2be55441da8",
   "metadata": {
    "tags": []
   },
   "outputs": [],
   "source": [
    "import pandas as pd\n",
    "import numpy as np"
   ]
  },
  {
   "cell_type": "code",
   "execution_count": null,
   "id": "26fbb7ba-7af2-4be3-8498-1d6f4c85d595",
   "metadata": {},
   "outputs": [],
   "source": [
    "df = pd.read_csv('Petrol Dataset June 20 2022.csv', encoding='latin-1') # lendo o arquivo"
   ]
  },
  {
   "cell_type": "code",
   "execution_count": null,
   "id": "347395d5-a376-4513-8d80-b151dac72cf2",
   "metadata": {},
   "outputs": [],
   "source": [
    "df.head()"
   ]
  },
  {
   "cell_type": "code",
   "execution_count": null,
   "id": "5e3e861d-bef9-4eeb-aafb-5f40eba1421f",
   "metadata": {},
   "outputs": [],
   "source": [
    "df.shape"
   ]
  },
  {
   "cell_type": "code",
   "execution_count": null,
   "id": "64bc2c97-6296-4ff0-b66a-38fbeb092ce3",
   "metadata": {},
   "outputs": [],
   "source": [
    "df.columns # verificando todas as colunas"
   ]
  },
  {
   "cell_type": "code",
   "execution_count": null,
   "id": "fe8e395d-916c-484d-b97c-f46060b5d2f7",
   "metadata": {},
   "outputs": [],
   "source": [
    "df = df.drop(columns=['#']) # excluindo a coluna de número de série"
   ]
  },
  {
   "cell_type": "code",
   "execution_count": null,
   "id": "18d76c73-6e2f-497d-994e-a2d075947eef",
   "metadata": {},
   "outputs": [],
   "source": [
    "df.info()"
   ]
  },
  {
   "cell_type": "code",
   "execution_count": null,
   "id": "b0b26432-8465-4818-8d54-2e8c9805c17d",
   "metadata": {},
   "outputs": [],
   "source": [
    "df.describe() # análise estatística"
   ]
  },
  {
   "cell_type": "code",
   "execution_count": null,
   "id": "32ead76f-bebc-4634-ab1d-ee95cfb1aa44",
   "metadata": {},
   "outputs": [],
   "source": [
    "df.isnull().sum() # soma de valores nulos"
   ]
  },
  {
   "cell_type": "code",
   "execution_count": null,
   "id": "a82cab20-c16b-4fc4-b406-31c57dd03db5",
   "metadata": {},
   "outputs": [],
   "source": [
    "df.isna().sum() # porcentagem de valores faltantes"
   ]
  },
  {
   "cell_type": "code",
   "execution_count": null,
   "id": "cc0efb68-d8bd-4c61-bdd6-5a76de6b7a80",
   "metadata": {},
   "outputs": [],
   "source": [
    "df.dtypes # tipos de dados"
   ]
  },
  {
   "cell_type": "markdown",
   "id": "b394e793-4d10-4e1d-9ad7-4041ca6608bf",
   "metadata": {
    "tags": []
   },
   "source": [
    "# Análise dos dados"
   ]
  },
  {
   "cell_type": "code",
   "execution_count": null,
   "id": "a0d56cd5-37a3-4316-8fa9-433f822c4cd5",
   "metadata": {},
   "outputs": [],
   "source": [
    "df.loc[df['Daily Oil Consumption (Barrels)'] == df['Daily Oil Consumption (Barrels)'].max()] # maior consumidor diário de barrís de petrólio"
   ]
  },
  {
   "cell_type": "code",
   "execution_count": null,
   "id": "8ff55e35-c450-4a07-9cfd-7010b4d833d5",
   "metadata": {},
   "outputs": [],
   "source": [
    "df.loc[df['Daily Oil Consumption (Barrels)'] == df['Daily Oil Consumption (Barrels)'].min()] # menor consumidor diário de barrís de petrólio"
   ]
  },
  {
   "cell_type": "code",
   "execution_count": null,
   "id": "1471a439-fd48-41e1-a954-de2273af3643",
   "metadata": {},
   "outputs": [],
   "source": [
    "df.loc[df['Country'] == 'Brazil'] # dados do brasil"
   ]
  },
  {
   "cell_type": "code",
   "execution_count": null,
   "id": "128b20d7-88b5-47fb-a73e-123b21fe1ead",
   "metadata": {},
   "outputs": [],
   "source": [
    "df.loc[df['Price Per Liter (USD)'] == df['Price Per Liter (USD)'].max()] # petroleo mais caro em dolar americano"
   ]
  },
  {
   "cell_type": "code",
   "execution_count": null,
   "id": "a0a98f87-5e47-4c08-b119-befbe9204c01",
   "metadata": {},
   "outputs": [],
   "source": [
    "df.loc[df['Price Per Liter (USD)'] == df['Price Per Liter (USD)'].min()] # petroleo mais barato em dolar americano"
   ]
  },
  {
   "cell_type": "code",
   "execution_count": null,
   "id": "7fd09250-f964-41e9-8733-2416dce6e3a3",
   "metadata": {},
   "outputs": [],
   "source": [
    "df.nlargest(10, ['Daily Oil Consumption (Barrels)']) # top 10 consumidores"
   ]
  },
  {
   "cell_type": "code",
   "execution_count": null,
   "id": "233a6276-97de-4b3d-957b-eacdc2a7bf6b",
   "metadata": {},
   "outputs": [],
   "source": [
    "df.nlargest(10, ['Price Per Liter (USD)']) # top 10 maiores preços por litro"
   ]
  },
  {
   "cell_type": "code",
   "execution_count": null,
   "id": "d6d1eb73-b8f8-4a28-9242-5d2c6081c659",
   "metadata": {},
   "outputs": [],
   "source": [
    "df.nsmallest(10, ['Price Per Liter (USD)']) # top 10 menores preços por litro"
   ]
  },
  {
   "cell_type": "markdown",
   "id": "ac4332e0-24ae-48c2-9271-90bc36277d29",
   "metadata": {
    "tags": []
   },
   "source": [
    "# Vizualização gráfica"
   ]
  },
  {
   "cell_type": "code",
   "execution_count": null,
   "id": "9fd8b0b8-1173-4dfe-9866-26d65a4fb00a",
   "metadata": {},
   "outputs": [],
   "source": [
    "import matplotlib.pyplot as plt\n",
    "import seaborn as sns\n",
    "import plotly.express as px\n",
    "\n",
    "plt.rcParams['figure.figsize'] = (10,7) # definindo tamanho 'default' para os plots"
   ]
  },
  {
   "cell_type": "markdown",
   "id": "5050cd37-76c0-4ab3-a226-ea1ed979f158",
   "metadata": {
    "tags": []
   },
   "source": [
    "### CONSUMO"
   ]
  },
  {
   "cell_type": "markdown",
   "id": "861f5b25-1805-4c52-90e6-3a45041fff35",
   "metadata": {},
   "source": [
    "Neste gráfico buscaremos os maiores consumidores diários de barrís de petróleo (top 10)."
   ]
  },
  {
   "cell_type": "code",
   "execution_count": null,
   "id": "1939078e-3f25-4f07-b99d-7a06edc53a12",
   "metadata": {},
   "outputs": [],
   "source": [
    "higher_custumer = df.nlargest(10, ['Daily Oil Consumption (Barrels)']) # separando dataset para maiores consumidores\n",
    "plt.style.use('ggplot') # estilo do gráfico\n",
    "higher_custumer.plot(x='Country', y = \"Daily Oil Consumption (Barrels)\", kind='bar', legend=False, color='b', alpha=0.75, fontsize=11) # plot\n",
    "plt.ticklabel_format(style='plain', axis='y') # configurando para que o eixo y não fique com notação científica\n",
    "plt.title('Maiores consumidores diários de barris de petróleo', fontsize=17, fontfamily='serif') # título, fonte\n",
    "plt.xlabel('Países', fontsize=12) # título do eixo x\n",
    "plt.ylabel('Barris de petróleo') # título do eixo y\n",
    "plt.grid(True) # linha do gráfico\n",
    "plt.tight_layout() # refinação do gráfico\n",
    "plt.show()"
   ]
  },
  {
   "cell_type": "markdown",
   "id": "09fc8ec1-5d08-40de-ae7b-319ec4918989",
   "metadata": {},
   "source": [
    "Já neste outro gráfico, os menores consumidores."
   ]
  },
  {
   "cell_type": "code",
   "execution_count": null,
   "id": "d1a99fd1-b8a2-498d-bd55-2e2a0ce86dac",
   "metadata": {},
   "outputs": [],
   "source": [
    "smallest_custumer = df.nsmallest(10, ['Daily Oil Consumption (Barrels)']) # separando dataset para menores consumidores\n",
    "plt.style.use('ggplot') # estilo do gráfico\n",
    "smallest_custumer.plot(x='Country', y = \"Daily Oil Consumption (Barrels)\", kind='bar', legend=False, color='b', alpha=0.75, fontsize=11)\n",
    "plt.ticklabel_format(style='plain', axis='y') # configurando para que o eixo y não fique com notação científica\n",
    "plt.title('Menores consumidores diários de barris de petróleo', fontsize=17, fontfamily='serif') # título, font \n",
    "plt.xlabel('Países', fontsize=12) # título do eixo x\n",
    "plt.ylabel('Barris de petróleo') # título do eixo y\n",
    "plt.grid(True) # linha do gráfico\n",
    "plt.tight_layout() # refinação do gráfico\n",
    "plt.show()"
   ]
  },
  {
   "cell_type": "markdown",
   "id": "9a4f80bf-1d83-4923-b5e7-a02709f50e3d",
   "metadata": {
    "tags": []
   },
   "source": [
    "### PREÇOS (POR LITRO)"
   ]
  },
  {
   "cell_type": "markdown",
   "id": "6cd49a91-a2fa-4be9-9d09-50b308218b5e",
   "metadata": {},
   "source": [
    "Quais são os 10 países que possuem o petróleo mais caro (por litro)?"
   ]
  },
  {
   "cell_type": "code",
   "execution_count": null,
   "id": "5025bb3d-6ec2-4367-b18a-53108fbd2a12",
   "metadata": {},
   "outputs": [],
   "source": [
    "biggest_price_L = df.nlargest(10, ['Price Per Liter (USD)']) # separando dataset para maiores preços\n",
    "plt.style.use('ggplot') # estilo do gráfico\n",
    "biggest_price_L.plot(x='Country', y = \"Price Per Liter (USD)\", kind='bar', legend=False, color='b', alpha=0.75, fontsize=11)\n",
    "plt.ticklabel_format(style='plain', axis='y') # configurando para que o eixo y não fique com notação científica\n",
    "plt.title('Países com o petróleo (por litro) mais caro', fontsize=17, fontfamily='serif') # título, font\n",
    "plt.xlabel('Países', fontsize=12) # título do eixo x\n",
    "plt.ylabel('USD') # título do eixo y\n",
    "plt.grid(True) # linha do gráfico\n",
    "plt.tight_layout() # refinação do gráfico\n",
    "plt.show()"
   ]
  },
  {
   "cell_type": "markdown",
   "id": "cfdb3e7f-e686-4433-abc2-b5981e8b06ae",
   "metadata": {},
   "source": [
    "E quais são os menores preços (por litro)?"
   ]
  },
  {
   "cell_type": "code",
   "execution_count": null,
   "id": "b97e20bb-8f24-45f2-a60c-7a9bc42f2855",
   "metadata": {},
   "outputs": [],
   "source": [
    "lowest_price_L = df.nsmallest(10, ['Price Per Liter (USD)']) # separando dataset para menores preços\n",
    "plt.style.use('ggplot') # estilo do gráfico\n",
    "lowest_price_L.plot(x='Country', y = \"Price Per Liter (USD)\", kind='bar', legend=False, color='b', alpha=0.75, fontsize=11)\n",
    "plt.ticklabel_format(style='plain', axis='y') # configurando para que o eixo y não fique com notação científica\n",
    "plt.title('Países com petróleo (por litro) mais baratos', fontsize=17, fontfamily='serif') # título, font \n",
    "plt.xlabel('Países', fontsize=12) # título do eixo x\n",
    "plt.ylabel('USD') # título do eixo y\n",
    "plt.grid(True) # linha do gráfico\n",
    "plt.tight_layout() # refinação do gráfico\n",
    "plt.show()"
   ]
  },
  {
   "cell_type": "markdown",
   "id": "bd71160e-5487-4883-a159-e0585f7d3938",
   "metadata": {},
   "source": [
    "Lembrando que os valores estão convertidos em dolar! Mas também podemos observar esses mesmos gráficos com a devida conversão para reais (R$).\n",
    "\n",
    "obs: a conversão será feita com o valor do dolar no momento em que fiz este script."
   ]
  },
  {
   "cell_type": "code",
   "execution_count": null,
   "id": "861acfd5-1a24-4ad0-b9a2-750765afcb3d",
   "metadata": {},
   "outputs": [],
   "source": [
    "df['Price Per Liter (R$)'] = df['Price Per Liter (USD)'] * 5.32 # nova coluna convertendo para real (R$)"
   ]
  },
  {
   "cell_type": "code",
   "execution_count": null,
   "id": "2f24a94a-5734-4bf8-8c81-405fedcc4071",
   "metadata": {},
   "outputs": [],
   "source": [
    "df[['Country', 'Price Per Liter (USD)', 'Price Per Liter (R$)']]"
   ]
  },
  {
   "cell_type": "code",
   "execution_count": null,
   "id": "d23b5317-4a0c-45ed-a90f-d11cbcaa7a18",
   "metadata": {},
   "outputs": [],
   "source": [
    "rs_bL = df.nlargest(10, ['Price Per Liter (R$)']) # separando dataset para maiores preços\n",
    "plt.style.use('ggplot') # estilo do gráfico\n",
    "rs_bL.plot(x='Country', y = \"Price Per Liter (R$)\", kind='bar', legend=False, color='b', alpha=0.75, fontsize=11)\n",
    "plt.ticklabel_format(style='plain', axis='y') # configurando para que o eixo y não fique com notação científica\n",
    "plt.title('Países com o petróleo (por litro) mais caro', fontsize=17, fontfamily='serif') # título, font\n",
    "plt.xlabel('Países', fontsize=12) # título do eixo x\n",
    "plt.ylabel('R$') # título do eixo y\n",
    "plt.grid(True) # linha do gráfico\n",
    "plt.tight_layout() # refinação do gráfico\n",
    "plt.show()"
   ]
  },
  {
   "cell_type": "code",
   "execution_count": null,
   "id": "f4291e18-60eb-430c-8f4f-f17ffc5699c0",
   "metadata": {},
   "outputs": [],
   "source": [
    "rs_sL = df.nsmallest(10, ['Price Per Liter (R$)']) # separando dataset para menores preços\n",
    "plt.style.use('ggplot') # estilo do gráfico\n",
    "rs_sL.plot(x='Country', y = \"Price Per Liter (USD)\", kind='bar', legend=False, color='b', alpha=0.75, fontsize=11)\n",
    "plt.ticklabel_format(style='plain', axis='y') # configurando para que o eixo y não fique com notação científica\n",
    "plt.title('Países com petróleo (por litro) mais barato', fontsize=17, fontfamily='serif') # título, font \n",
    "plt.xlabel('Países', fontsize=12) # título do eixo x\n",
    "plt.ylabel('R$') # título do eixo y\n",
    "plt.grid(True) # linha do gráfico\n",
    "plt.tight_layout() # refinação do gráfico\n",
    "plt.show()"
   ]
  },
  {
   "cell_type": "markdown",
   "id": "54fd20cd-a68a-4355-934d-b5e548b2d903",
   "metadata": {
    "tags": []
   },
   "source": [
    "### RELAÇÃO PREÇO X CONSUMO ANUAL PER CAPITA"
   ]
  },
  {
   "cell_type": "code",
   "execution_count": null,
   "id": "205d6337-aa6d-42bb-83e0-60a479315338",
   "metadata": {},
   "outputs": [],
   "source": [
    "colors = px.colors.qualitative.swatches() # visualizando cores do plotly\n",
    "colors.show() # mostrando cores"
   ]
  },
  {
   "cell_type": "code",
   "execution_count": null,
   "id": "07a24e38-d54a-4310-9446-54048910ad64",
   "metadata": {},
   "outputs": [],
   "source": [
    "figure = px.scatter(x=df['Price Per Liter (USD)'], y=df['Yearly Gallons Per Capita'], # eixos\n",
    "                 labels={'y': 'Galões anuais per capita', 'x': 'Preço por litro (USD)'}, # títulos (x e y)\n",
    "                 color_discrete_sequence = px.colors.qualitative.T10, # escolha da cor\n",
    "                 template='ggplot2') # tema\n",
    "figure.update_layout(title= {'text' : 'Preço x Consumo anual per capita'}) # título do gráfico\n",
    "figure.show()"
   ]
  },
  {
   "cell_type": "code",
   "execution_count": null,
   "id": "c08367ae-e09e-4468-8eeb-15cf8f30c603",
   "metadata": {},
   "outputs": [],
   "source": [
    "figure = px.scatter(x=df['Price Per Liter (R$)'], y=df['Yearly Gallons Per Capita'], # eixos\n",
    "                 labels={'y': 'Galões anuais per capita', 'x': 'Preço por litro (R$)'}, # títulos (x e y)\n",
    "                 color_discrete_sequence = px.colors.qualitative.T10, # escolha da cor\n",
    "                 template='ggplot2') # tema\n",
    "figure.update_layout(title= {'text' : 'Preço x Consumo anual per capita'}) # título do gráfico\n",
    "figure.show()"
   ]
  },
  {
   "cell_type": "markdown",
   "id": "2807c900-b651-4d32-8316-fc6314aa118d",
   "metadata": {},
   "source": [
    "-----------------------------------------------------------------------------------------------------------------------------------------------------------------------------------------"
   ]
  },
  {
   "cell_type": "markdown",
   "id": "290db87f-47c7-4ebf-a6ba-055143104837",
   "metadata": {},
   "source": [
    "-----------------------------------------------------------------------------------------------------------------------------------------------------------------------------------------"
   ]
  },
  {
   "cell_type": "markdown",
   "id": "5daa2814-9420-4e42-b0b9-136225b1d301",
   "metadata": {},
   "source": [
    "-----------------------------------------------------------------------------------------------------------------------------------------------------------------------------------------"
   ]
  },
  {
   "cell_type": "markdown",
   "id": "ccd83b02-78cf-429a-bffa-65144285e47f",
   "metadata": {},
   "source": [
    "-----------------------------------------------------------------------------------------------------------------------------------------------------------------------------------------"
   ]
  }
 ],
 "metadata": {
  "kernelspec": {
   "display_name": "Python 3 (ipykernel)",
   "language": "python",
   "name": "python3"
  },
  "language_info": {
   "codemirror_mode": {
    "name": "ipython",
    "version": 3
   },
   "file_extension": ".py",
   "mimetype": "text/x-python",
   "name": "python",
   "nbconvert_exporter": "python",
   "pygments_lexer": "ipython3",
   "version": "3.9.12"
  }
 },
 "nbformat": 4,
 "nbformat_minor": 5
}
